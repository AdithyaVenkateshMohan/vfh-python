{
 "cells": [
  {
   "cell_type": "code",
   "execution_count": 1,
   "metadata": {
    "scrolled": true
   },
   "outputs": [
    {
     "name": "stdout",
     "output_type": "stream",
     "text": [
      "get_best_angle: before smoothing\n",
      "index, angle, certainty\n",
      "0 0.0 0.0\n",
      "1 30.0 0\n",
      "2 60.0 0\n",
      "3 90.0 0\n",
      "4 120.0 0\n",
      "5 150.0 0\n",
      "6 180.0 1114.078085939495\n",
      "7 210.0 0.0\n",
      "8 240.0 0.0\n",
      "9 270.0 955.0\n",
      "10 300.0 0\n",
      "11 330.0 0\n",
      "\n",
      "get_best_angle: after smoothing\n",
      "index, angle, certainty\n",
      "0 0.0 173.63636363636363\n",
      "1 30.0 86.81818181818181\n",
      "2 60.0 101.27982599449955\n",
      "3 90.0 202.5596519889991\n",
      "4 120.0 303.8394779834986\n",
      "5 150.0 491.93748579618\n",
      "6 180.0 680.0354936088613\n",
      "7 210.0 665.5738494325436\n",
      "8 240.0 651.1122052562259\n",
      "9 270.0 636.6505610799081\n",
      "10 300.0 448.55255326722676\n",
      "11 330.0 260.45454545454544\n",
      "\n"
     ]
    }
   ],
   "source": [
    "%load_ext autoreload\n",
    "%autoreload 2\n",
    "# from lib.polar_histogram import PolarHistogram\n",
    "# from lib.histogram_grid import HistogramGrid\n",
    "# from lib.path_planner import PathPlanner\n",
    "from lib.robot import Robot\n",
    "\n",
    "# HistogramGrid params\n",
    "active_region_dimension = (30, 30)\n",
    "resolution = 1 # 1cm per node\n",
    "map_fname = 'map.txt'\n",
    "\n",
    "# PolarHistogram params\n",
    "num_bins = 12 # each bin is 36 degrees\n",
    "target_location = (50, 50)\n",
    "\n",
    "# Robot Params\n",
    "init_location = (0, 0)\n",
    "init_speed = 1\n",
    "\n",
    "robot = Robot.from_map(map_fname, init_location, target_location, init_speed, active_region_dimension, resolution, num_bins)\n",
    "\n",
    "# print(path_planner)\n",
    "# print(robot.path_planner.get_best_angle())"
   ]
  },
  {
   "cell_type": "code",
   "execution_count": 2,
   "metadata": {},
   "outputs": [],
   "source": [
    "# from lib.histogram_grid import HistogramGrid\n",
    "\n",
    "# map_fname = 'map.txt'\n",
    "# resolution = 1 # node size = 1cm\n",
    "# hg = HistogramGrid.build_histogram_from_txt(map_fname, resolution)\n",
    "# print(*hg.histogram_grid, sep=\"\\n\")"
   ]
  }
 ],
 "metadata": {
  "kernelspec": {
   "display_name": "Python 3",
   "language": "python",
   "name": "python3"
  },
  "language_info": {
   "codemirror_mode": {
    "name": "ipython",
    "version": 3
   },
   "file_extension": ".py",
   "mimetype": "text/x-python",
   "name": "python",
   "nbconvert_exporter": "python",
   "pygments_lexer": "ipython3",
   "version": "3.6.5"
  }
 },
 "nbformat": 4,
 "nbformat_minor": 2
}
