{
 "cells": [
  {
   "cell_type": "code",
   "execution_count": 1,
   "metadata": {},
   "outputs": [],
   "source": [
    "\"\"\"\n",
    "polar_histogram.py\n",
    "\n",
    "A polar histogram means this, assuming bin_width=36 \n",
    "(therefore num_bins = 360 / 36 = 10):\n",
    "\n",
    "\n",
    "index, corresponding_angle, histogram_angle\n",
    "0, 0, 123\n",
    "1, 36, 0\n",
    "2, 72, 30\n",
    "...\n",
    "9, 324, 0\n",
    "\n",
    "(equation: i * bin_width = angle)\n",
    "\n",
    "However, we only keep index in a flat array for histograms, so we don't natively get/set by angle \n",
    "but instead translate to and from angle.\n",
    "\"\"\"\n",
    "# PolarHistogram class creates an object to represent the Polar Histogram\n",
    "class PolarHistogram:\n",
    "    def __init__(self, num_bins):\n",
    "        \"\"\"\n",
    "        Creates a Polar Histogram object with the number of bins passed.\n",
    "\n",
    "        Args:\n",
    "            num_bins: Number of bins to divide polar space around robot into.\n",
    "            bin_width: Angular width around robot included in each bin.\n",
    "            histogram: Array storing the values of the polar histogram.\n",
    "        \"\"\"\n",
    "        self.num_bins = num_bins\n",
    "        self.bin_width = 360/num_bins\n",
    "        self.polar_histogram = [0] * num_bins\n",
    "\n",
    "\n",
    "    "
   ]
  },
  {
   "cell_type": "code",
   "execution_count": 2,
   "metadata": {
    "scrolled": true
   },
   "outputs": [
    {
     "name": "stdout",
     "output_type": "stream",
     "text": [
      "index, angle, certainty\n",
      "0 0.0 0\n",
      "1 72.0 0\n",
      "2 144.0 0\n",
      "3 216.0 0\n",
      "4 288.0 0\n",
      "\n"
     ]
    }
   ],
   "source": [
    "polar_histogram = PolarHistogram(5)\n",
    "print(polar_histogram)"
   ]
  },
  {
   "cell_type": "code",
   "execution_count": null,
   "metadata": {},
   "outputs": [],
   "source": [
    "# from lib.histogram_grid import HistogramGrid\n",
    "\n",
    "# map_fname = 'map.txt'\n",
    "# resolution = 1 # node size = 1cm\n",
    "# hg = HistogramGrid.build_histogram_from_txt(map_fname, resolution)\n",
    "# print(*hg.histogram_grid, sep=\"\\n\")"
   ]
  }
 ],
 "metadata": {
  "kernelspec": {
   "display_name": "Python 3",
   "language": "python",
   "name": "python3"
  },
  "language_info": {
   "codemirror_mode": {
    "name": "ipython",
    "version": 3
   },
   "file_extension": ".py",
   "mimetype": "text/x-python",
   "name": "python",
   "nbconvert_exporter": "python",
   "pygments_lexer": "ipython3",
   "version": "3.6.5"
  }
 },
 "nbformat": 4,
 "nbformat_minor": 2
}
