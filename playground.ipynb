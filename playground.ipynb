{
 "cells": [
  {
   "cell_type": "code",
   "execution_count": 1,
   "metadata": {
    "scrolled": false
   },
   "outputs": [
    {
     "ename": "AttributeError",
     "evalue": "'PathPlanner' object has no attribute 'a'",
     "output_type": "error",
     "traceback": [
      "\u001b[0;31m---------------------------------------------------------------------------\u001b[0m",
      "\u001b[0;31mAttributeError\u001b[0m                            Traceback (most recent call last)",
      "\u001b[0;32m<ipython-input-1-d55bfe0c8c7b>\u001b[0m in \u001b[0;36m<module>\u001b[0;34m()\u001b[0m\n\u001b[1;32m     25\u001b[0m \u001b[0minit_speed\u001b[0m \u001b[0;34m=\u001b[0m \u001b[0;36m1\u001b[0m\u001b[0;34m\u001b[0m\u001b[0m\n\u001b[1;32m     26\u001b[0m \u001b[0;34m\u001b[0m\u001b[0m\n\u001b[0;32m---> 27\u001b[0;31m \u001b[0mrobot\u001b[0m \u001b[0;34m=\u001b[0m \u001b[0mRobot\u001b[0m\u001b[0;34m.\u001b[0m\u001b[0mfrom_map\u001b[0m\u001b[0;34m(\u001b[0m\u001b[0mmap_fname\u001b[0m\u001b[0;34m,\u001b[0m \u001b[0minit_location\u001b[0m\u001b[0;34m,\u001b[0m \u001b[0mtarget_location\u001b[0m\u001b[0;34m,\u001b[0m \u001b[0minit_speed\u001b[0m\u001b[0;34m,\u001b[0m \u001b[0mactive_region_dimension\u001b[0m\u001b[0;34m,\u001b[0m \u001b[0mresolution\u001b[0m\u001b[0;34m,\u001b[0m \u001b[0mnum_bins\u001b[0m\u001b[0;34m)\u001b[0m\u001b[0;34m\u001b[0m\u001b[0m\n\u001b[0m\u001b[1;32m     28\u001b[0m \u001b[0;34m\u001b[0m\u001b[0m\n\u001b[1;32m     29\u001b[0m \u001b[0mnum_steps\u001b[0m \u001b[0;34m=\u001b[0m \u001b[0;36m100\u001b[0m\u001b[0;34m\u001b[0m\u001b[0m\n",
      "\u001b[0;32m~/Documents/projects/vfh_python/lib/robot.py\u001b[0m in \u001b[0;36mfrom_map\u001b[0;34m(cls, map_fname, init_location, target_location, init_speed, active_region_dimension, resolution, num_bins)\u001b[0m\n\u001b[1;32m     32\u001b[0m         \u001b[0mhistogram_grid\u001b[0m \u001b[0;34m=\u001b[0m \u001b[0mHistogramGrid\u001b[0m\u001b[0;34m.\u001b[0m\u001b[0mfrom_map\u001b[0m\u001b[0;34m(\u001b[0m\u001b[0mmap_fname\u001b[0m\u001b[0;34m,\u001b[0m \u001b[0mactive_region_dimension\u001b[0m\u001b[0;34m,\u001b[0m \u001b[0mresolution\u001b[0m\u001b[0;34m,\u001b[0m \u001b[0minit_location\u001b[0m\u001b[0;34m)\u001b[0m\u001b[0;34m\u001b[0m\u001b[0m\n\u001b[1;32m     33\u001b[0m         \u001b[0mpolar_histogram\u001b[0m \u001b[0;34m=\u001b[0m \u001b[0mPolarHistogram\u001b[0m\u001b[0;34m(\u001b[0m\u001b[0mnum_bins\u001b[0m\u001b[0;34m)\u001b[0m\u001b[0;34m\u001b[0m\u001b[0m\n\u001b[0;32m---> 34\u001b[0;31m         \u001b[0;32mreturn\u001b[0m \u001b[0mcls\u001b[0m\u001b[0;34m(\u001b[0m\u001b[0mhistogram_grid\u001b[0m\u001b[0;34m,\u001b[0m \u001b[0mpolar_histogram\u001b[0m\u001b[0;34m,\u001b[0m \u001b[0minit_location\u001b[0m\u001b[0;34m,\u001b[0m \u001b[0mtarget_location\u001b[0m\u001b[0;34m,\u001b[0m \u001b[0minit_speed\u001b[0m\u001b[0;34m)\u001b[0m\u001b[0;34m\u001b[0m\u001b[0m\n\u001b[0m\u001b[1;32m     35\u001b[0m \u001b[0;34m\u001b[0m\u001b[0m\n\u001b[1;32m     36\u001b[0m \u001b[0;34m\u001b[0m\u001b[0m\n",
      "\u001b[0;32m~/Documents/projects/vfh_python/lib/robot.py\u001b[0m in \u001b[0;36m__init__\u001b[0;34m(self, histogram_grid, polar_histogram, init_location, target_location, init_speed)\u001b[0m\n\u001b[1;32m     21\u001b[0m     \u001b[0;32mdef\u001b[0m \u001b[0m__init__\u001b[0m\u001b[0;34m(\u001b[0m\u001b[0mself\u001b[0m\u001b[0;34m,\u001b[0m \u001b[0mhistogram_grid\u001b[0m\u001b[0;34m,\u001b[0m \u001b[0mpolar_histogram\u001b[0m\u001b[0;34m,\u001b[0m \u001b[0minit_location\u001b[0m\u001b[0;34m,\u001b[0m \u001b[0mtarget_location\u001b[0m\u001b[0;34m,\u001b[0m \u001b[0minit_speed\u001b[0m\u001b[0;34m)\u001b[0m\u001b[0;34m:\u001b[0m\u001b[0;34m\u001b[0m\u001b[0m\n\u001b[1;32m     22\u001b[0m         \u001b[0;31m# CHANGED: we shouldn't need polar_histogram, only histogram_grid\u001b[0m\u001b[0;34m\u001b[0m\u001b[0;34m\u001b[0m\u001b[0m\n\u001b[0;32m---> 23\u001b[0;31m         \u001b[0mself\u001b[0m\u001b[0;34m.\u001b[0m\u001b[0mpath_planner\u001b[0m \u001b[0;34m=\u001b[0m \u001b[0mPathPlanner\u001b[0m\u001b[0;34m(\u001b[0m\u001b[0mhistogram_grid\u001b[0m\u001b[0;34m,\u001b[0m \u001b[0mpolar_histogram\u001b[0m\u001b[0;34m,\u001b[0m \u001b[0minit_location\u001b[0m\u001b[0;34m,\u001b[0m \u001b[0mtarget_location\u001b[0m\u001b[0;34m)\u001b[0m\u001b[0;34m\u001b[0m\u001b[0m\n\u001b[0m\u001b[1;32m     24\u001b[0m \u001b[0;31m#         // discretePoint location; //Stores the location of the robot\u001b[0m\u001b[0;34m\u001b[0m\u001b[0;34m\u001b[0m\u001b[0m\n\u001b[1;32m     25\u001b[0m \u001b[0;31m#         contPoint location; //Stores the location of the robot\u001b[0m\u001b[0;34m\u001b[0m\u001b[0;34m\u001b[0m\u001b[0m\n",
      "\u001b[0;32m~/Documents/projects/vfh_python/lib/path_planner.py\u001b[0m in \u001b[0;36m__init__\u001b[0;34m(self, histogram_grid, polar_histogram, robot_location, target_location, a, b, l, s_max, valley_threshold)\u001b[0m\n\u001b[1;32m     23\u001b[0m         \u001b[0mself\u001b[0m\u001b[0;34m.\u001b[0m\u001b[0mpolar_histogram\u001b[0m \u001b[0;34m=\u001b[0m \u001b[0mpolar_histogram\u001b[0m\u001b[0;34m\u001b[0m\u001b[0m\n\u001b[1;32m     24\u001b[0m         \u001b[0mself\u001b[0m\u001b[0;34m.\u001b[0m\u001b[0mhistogram_grid\u001b[0m \u001b[0;34m=\u001b[0m \u001b[0mhistogram_grid\u001b[0m\u001b[0;34m\u001b[0m\u001b[0m\n\u001b[0;32m---> 25\u001b[0;31m         \u001b[0mself\u001b[0m\u001b[0;34m.\u001b[0m\u001b[0mset_robot_location\u001b[0m\u001b[0;34m(\u001b[0m\u001b[0mrobot_location\u001b[0m\u001b[0;34m)\u001b[0m\u001b[0;34m\u001b[0m\u001b[0m\n\u001b[0m\u001b[1;32m     26\u001b[0m         \u001b[0mself\u001b[0m\u001b[0;34m.\u001b[0m\u001b[0mset_target_discrete_location\u001b[0m\u001b[0;34m(\u001b[0m\u001b[0mtarget_location\u001b[0m\u001b[0;34m)\u001b[0m\u001b[0;34m\u001b[0m\u001b[0m\n\u001b[1;32m     27\u001b[0m         \u001b[0mself\u001b[0m\u001b[0;34m.\u001b[0m\u001b[0ma\u001b[0m \u001b[0;34m=\u001b[0m \u001b[0ma\u001b[0m\u001b[0;34m\u001b[0m\u001b[0m\n",
      "\u001b[0;32m~/Documents/projects/vfh_python/lib/path_planner.py\u001b[0m in \u001b[0;36mset_robot_location\u001b[0;34m(self, new_location)\u001b[0m\n\u001b[1;32m     41\u001b[0m         \u001b[0;34m\"\"\"new_location: a tuple (x, y).\"\"\"\u001b[0m\u001b[0;34m\u001b[0m\u001b[0m\n\u001b[1;32m     42\u001b[0m         \u001b[0mself\u001b[0m\u001b[0;34m.\u001b[0m\u001b[0mhistogram_grid\u001b[0m\u001b[0;34m.\u001b[0m\u001b[0mset_robot_location\u001b[0m\u001b[0;34m(\u001b[0m\u001b[0mnew_location\u001b[0m\u001b[0;34m)\u001b[0m\u001b[0;34m\u001b[0m\u001b[0m\n\u001b[0;32m---> 43\u001b[0;31m         \u001b[0mself\u001b[0m\u001b[0;34m.\u001b[0m\u001b[0mgenerate_histogram\u001b[0m\u001b[0;34m(\u001b[0m\u001b[0;34m)\u001b[0m\u001b[0;34m\u001b[0m\u001b[0m\n\u001b[0m\u001b[1;32m     44\u001b[0m \u001b[0;34m\u001b[0m\u001b[0m\n\u001b[1;32m     45\u001b[0m \u001b[0;34m\u001b[0m\u001b[0m\n",
      "\u001b[0;32m~/Documents/projects/vfh_python/lib/path_planner.py\u001b[0m in \u001b[0;36mgenerate_histogram\u001b[0;34m(self)\u001b[0m\n\u001b[1;32m     64\u001b[0m                 \u001b[0mcertainty\u001b[0m \u001b[0;34m=\u001b[0m \u001b[0mhistogram_grid\u001b[0m\u001b[0;34m.\u001b[0m\u001b[0mget_certainty_at_discrete_point\u001b[0m\u001b[0;34m(\u001b[0m\u001b[0mnode_considered\u001b[0m\u001b[0;34m)\u001b[0m\u001b[0;34m\u001b[0m\u001b[0m\n\u001b[1;32m     65\u001b[0m                 \u001b[0mdistance\u001b[0m \u001b[0;34m=\u001b[0m \u001b[0mhistogram_grid\u001b[0m\u001b[0;34m.\u001b[0m\u001b[0mget_continuous_distance_between_discrete_points\u001b[0m\u001b[0;34m(\u001b[0m\u001b[0mnode_considered\u001b[0m\u001b[0;34m,\u001b[0m \u001b[0mrobot_location\u001b[0m\u001b[0;34m)\u001b[0m\u001b[0;34m\u001b[0m\u001b[0m\n\u001b[0;32m---> 66\u001b[0;31m                 \u001b[0mdelta_certainty\u001b[0m \u001b[0;34m=\u001b[0m \u001b[0;34m(\u001b[0m\u001b[0mcertainty\u001b[0m \u001b[0;34m**\u001b[0m \u001b[0;36m2\u001b[0m\u001b[0;34m)\u001b[0m \u001b[0;34m*\u001b[0m \u001b[0;34m(\u001b[0m\u001b[0mself\u001b[0m\u001b[0;34m.\u001b[0m\u001b[0ma\u001b[0m \u001b[0;34m-\u001b[0m \u001b[0mself\u001b[0m\u001b[0;34m.\u001b[0m\u001b[0mb\u001b[0m \u001b[0;34m*\u001b[0m \u001b[0mdistance\u001b[0m\u001b[0;34m)\u001b[0m\u001b[0;34m\u001b[0m\u001b[0m\n\u001b[0m\u001b[1;32m     67\u001b[0m                 \u001b[0mpolar_histogram\u001b[0m\u001b[0;34m.\u001b[0m\u001b[0madd_certainty_to_bin_at_angle\u001b[0m\u001b[0;34m(\u001b[0m\u001b[0mhistogram_grid\u001b[0m\u001b[0;34m.\u001b[0m\u001b[0mget_angle_between_discrete_points\u001b[0m\u001b[0;34m(\u001b[0m\u001b[0mrobot_location\u001b[0m\u001b[0;34m,\u001b[0m \u001b[0mnode_considered\u001b[0m\u001b[0;34m)\u001b[0m\u001b[0;34m,\u001b[0m \u001b[0mdelta_certainty\u001b[0m\u001b[0;34m)\u001b[0m\u001b[0;34m\u001b[0m\u001b[0m\n\u001b[1;32m     68\u001b[0m                 \u001b[0mhistogram_grid\u001b[0m\u001b[0;34m.\u001b[0m\u001b[0mget_certainty_at_discrete_point\u001b[0m\u001b[0;34m(\u001b[0m\u001b[0mnode_considered\u001b[0m\u001b[0;34m)\u001b[0m\u001b[0;34m\u001b[0m\u001b[0m\n",
      "\u001b[0;31mAttributeError\u001b[0m: 'PathPlanner' object has no attribute 'a'"
     ]
    }
   ],
   "source": [
    "import matplotlib.pyplot as plt\n",
    "\n",
    "\n",
    "%load_ext autoreload\n",
    "%autoreload 2\n",
    "%matplotlib inline\n",
    "\n",
    "\n",
    "# from lib.polar_histogram import PolarHistogram\n",
    "# from lib.histogram_grid import HistogramGrid\n",
    "# from lib.path_planner import PathPlanner\n",
    "from lib.robot import Robot\n",
    "\n",
    "# HistogramGrid params\n",
    "active_region_dimension = (30, 30)\n",
    "resolution = 1 # 1cm per node\n",
    "map_fname = 'map.txt'\n",
    "\n",
    "# PolarHistogram params\n",
    "num_bins = 12 # each bin is 36 degrees\n",
    "target_location = (50, 50)\n",
    "\n",
    "# Robot Params\n",
    "init_location = (0, 0)\n",
    "init_speed = 1\n",
    "\n",
    "robot = Robot.from_map(map_fname, init_location, target_location, init_speed, active_region_dimension, resolution, num_bins)\n",
    "\n",
    "num_steps = 100\n",
    "\n",
    "robot.loop(num_steps, draw=True)\n",
    "# print(path_planner)\n",
    "# robot.path_planner.print_histogram()\n",
    "# robot.draw()\n",
    "# print(robot.angle)"
   ]
  }
 ],
 "metadata": {
  "kernelspec": {
   "display_name": "Python 3",
   "language": "python",
   "name": "python3"
  },
  "language_info": {
   "codemirror_mode": {
    "name": "ipython",
    "version": 3
   },
   "file_extension": ".py",
   "mimetype": "text/x-python",
   "name": "python",
   "nbconvert_exporter": "python",
   "pygments_lexer": "ipython3",
   "version": "3.6.5"
  }
 },
 "nbformat": 4,
 "nbformat_minor": 2
}
