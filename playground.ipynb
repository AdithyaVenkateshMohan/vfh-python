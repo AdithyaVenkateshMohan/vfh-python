{
 "cells": [
  {
   "cell_type": "code",
   "execution_count": 3,
   "metadata": {
    "scrolled": true
   },
   "outputs": [
    {
     "ename": "TypeError",
     "evalue": "__init__() missing 2 required positional arguments: 'polar_histogram' and 'histogram_grid'",
     "output_type": "error",
     "traceback": [
      "\u001b[0;31m---------------------------------------------------------------------------\u001b[0m",
      "\u001b[0;31mTypeError\u001b[0m                                 Traceback (most recent call last)",
      "\u001b[0;32m<ipython-input-3-4bd884861d41>\u001b[0m in \u001b[0;36m<module>\u001b[0;34m()\u001b[0m\n\u001b[1;32m     10\u001b[0m \u001b[0mpolar_histogram\u001b[0m \u001b[0;34m=\u001b[0m \u001b[0mPolarHistogram\u001b[0m\u001b[0;34m(\u001b[0m\u001b[0mnum_bins\u001b[0m\u001b[0;34m)\u001b[0m\u001b[0;34m\u001b[0m\u001b[0m\n\u001b[1;32m     11\u001b[0m \u001b[0mhistogram_grid\u001b[0m \u001b[0;34m=\u001b[0m \u001b[0mHistogramGrid\u001b[0m\u001b[0;34m.\u001b[0m\u001b[0mfrom_txt\u001b[0m\u001b[0;34m(\u001b[0m\u001b[0mmap_fname\u001b[0m\u001b[0;34m,\u001b[0m \u001b[0mactive_region_dimension\u001b[0m\u001b[0;34m,\u001b[0m \u001b[0mresolution\u001b[0m\u001b[0;34m)\u001b[0m\u001b[0;34m\u001b[0m\u001b[0m\n\u001b[0;32m---> 12\u001b[0;31m \u001b[0mpath_planner\u001b[0m \u001b[0;34m=\u001b[0m \u001b[0mPathPlanner\u001b[0m\u001b[0;34m(\u001b[0m\u001b[0;34m)\u001b[0m\u001b[0;34m\u001b[0m\u001b[0m\n\u001b[0m\u001b[1;32m     13\u001b[0m \u001b[0mpath_planner\u001b[0m \u001b[0;34m=\u001b[0m \u001b[0mPathPlanner\u001b[0m\u001b[0;34m(\u001b[0m\u001b[0mpolar_histogram\u001b[0m\u001b[0;34m,\u001b[0m \u001b[0mhistogram_grid\u001b[0m\u001b[0;34m)\u001b[0m\u001b[0;34m\u001b[0m\u001b[0m\n\u001b[1;32m     14\u001b[0m \u001b[0;31m# print(path_planner)\u001b[0m\u001b[0;34m\u001b[0m\u001b[0;34m\u001b[0m\u001b[0m\n",
      "\u001b[0;31mTypeError\u001b[0m: __init__() missing 2 required positional arguments: 'polar_histogram' and 'histogram_grid'"
     ]
    }
   ],
   "source": [
    "from lib.polar_histogram import PolarHistogram\n",
    "from lib.histogram_grid import HistogramGrid\n",
    "from lib.path_planner import PathPlanner\n",
    "\n",
    "num_bins = 12 # each bin is 36 degrees\n",
    "active_region_dimension = (30, 30)\n",
    "resolution = 1 # 1cm per node\n",
    "map_fname = 'map.txt'\n",
    "\n",
    "polar_histogram = PolarHistogram(num_bins)\n",
    "histogram_grid = HistogramGrid.from_txt(map_fname, active_region_dimension, resolution)\n",
    "path_planner = PathPlanner()\n",
    "path_planner = PathPlanner(polar_histogram, histogram_grid)\n",
    "# print(path_planner)\n",
    "print(path_planner.get_best_angle())"
   ]
  },
  {
   "cell_type": "code",
   "execution_count": null,
   "metadata": {},
   "outputs": [],
   "source": [
    "# from lib.histogram_grid import HistogramGrid\n",
    "\n",
    "# map_fname = 'map.txt'\n",
    "# resolution = 1 # node size = 1cm\n",
    "# hg = HistogramGrid.build_histogram_from_txt(map_fname, resolution)\n",
    "# print(*hg.histogram_grid, sep=\"\\n\")"
   ]
  }
 ],
 "metadata": {
  "kernelspec": {
   "display_name": "Python 3",
   "language": "python",
   "name": "python3"
  },
  "language_info": {
   "codemirror_mode": {
    "name": "ipython",
    "version": 3
   },
   "file_extension": ".py",
   "mimetype": "text/x-python",
   "name": "python",
   "nbconvert_exporter": "python",
   "pygments_lexer": "ipython3",
   "version": "3.6.5"
  }
 },
 "nbformat": 4,
 "nbformat_minor": 2
}
