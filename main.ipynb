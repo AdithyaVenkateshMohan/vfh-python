{
 "cells": [
  {
   "cell_type": "code",
   "execution_count": 1,
   "metadata": {},
   "outputs": [],
   "source": [
    "\"\"\"\n",
    "polar_histogram.py\n",
    "\n",
    "A polar histogram means this, assuming bin_width=36 \n",
    "(therefore num_bins = 360 / 36 = 10):\n",
    "\n",
    "\n",
    "index, corresponding_angle, histogram_angle\n",
    "0, 0, 123\n",
    "1, 36, 0\n",
    "2, 72, 30\n",
    "...\n",
    "9, 324, 0\n",
    "\n",
    "(equation: i * bin_width = angle)\n",
    "\n",
    "However, we only keep index in a flat array for histograms, so we don't natively get/set by angle \n",
    "but instead translate to and from angle.\n",
    "\"\"\"\n",
    "# PolarHistogram class creates an object to represent the Polar Histogram\n",
    "class PolarHistogram:\n",
    "    def __init__(self, num_bins):\n",
    "        \"\"\"\n",
    "        Creates a Polar Histogram object with the number of bins passed.\n",
    "\n",
    "        Args:\n",
    "            num_bins: Number of bins to divide polar space around robot into.\n",
    "            bin_width: Angular width around robot included in each bin.\n",
    "            histogram: Array storing the values of the polar histogram.\n",
    "        \"\"\"\n",
    "        self.num_bins = num_bins\n",
    "        self.bin_width = 360/num_bins\n",
    "        self.polar_histogram = [0] * num_bins\n",
    "\n",
    "\n",
    "    def get_bin_index_from_angle(self, angle):\n",
    "        \"\"\"Returns index 0 <= i < nBins that corresponds to a. \"Wraps\" a around histogram.\"\"\"\n",
    "        while angle < 0:\n",
    "            angle += 360\n",
    "        while angle > 360:\n",
    "            angle -= 360\n",
    "            \n",
    "        return angle // self.bin_width\n",
    "#         return ((angle % self.num_bins) + self.num_bins) % nBins\n",
    "\n",
    "    def get_middle_angle_from_bin(self, bin_index):\n",
    "        \"\"\"Returns the angle in the middle of the bin.\"\"\"\n",
    "        return (bin_index + 0.5) * self.bin_width\n",
    "\n",
    "    \n",
    "    def get_certainty_from_angle(self, angle):\n",
    "        \"\"\"Returns the value of the histogram for the specified bin.\"\"\"\n",
    "        return self.polar_histogram[self.get_bin_index_from_angle(angle)];\n",
    "\n",
    "\n",
    "    def increment_certainty_of_bin_at_angle(self, angle, delta_certainty):\n",
    "        \"\"\"Adds the passed value to the current value of the histogr1am grid.\"\"\"\n",
    "        self.polar_histogram[get_bin_index_from_angle(angle)] += delta_certainty\n",
    "\n",
    "\n",
    "    def smoothHistogram(l):\n",
    "        \"\"\"Smoothing function that smooths the values of the histogram using a moving average.\"\"\"\n",
    "        for i in range(self.num_bins):\n",
    "            culmsum = self.polar_histogram[i]*l\n",
    "\n",
    "            k = 1\n",
    "            for j in range(i-l, i):\n",
    "                culmsum += k*self.polar_histogram[self.num_bins + (j % self.num_bins)]\n",
    "                k += 1\n",
    "                \n",
    "            k = l\n",
    "            for j in range(i+1, i+l+1):\n",
    "                culmsum += k*self.polar_histogram[j % self.num_bins]\n",
    "                k -= 1\n",
    "                \n",
    "            self.polar_histogram[i] = culmsum/(2*l + 1)\n",
    "    \n",
    "    \n",
    "    def __str__(self):\n",
    "        string = 'index, angle, certainty\\n'\n",
    "        for i, certainty in enumerate(self.polar_histogram):\n",
    "#             print(i, i * self.bin_width, certainty)\n",
    "            string += str(i) + ' ' + str(i * self.bin_width) + ' ' + str(certainty) + '\\n' \n",
    "#             print(str(i) + ',' + i * self.bin_width + ', ', certainty)\n",
    "        return string\n",
    "\n",
    "\n",
    "    def reset(self):\n",
    "        self.histogram = [0] * self.num_bins\n"
   ]
  },
  {
   "cell_type": "code",
   "execution_count": 2,
   "metadata": {
    "scrolled": true
   },
   "outputs": [
    {
     "name": "stdout",
     "output_type": "stream",
     "text": [
      "index, angle, certainty\n",
      "0 0.0 0\n",
      "1 72.0 0\n",
      "2 144.0 0\n",
      "3 216.0 0\n",
      "4 288.0 0\n",
      "\n"
     ]
    }
   ],
   "source": [
    "polar_histogram = PolarHistogram(5)\n",
    "print(polar_histogram)"
   ]
  },
  {
   "cell_type": "code",
   "execution_count": null,
   "metadata": {},
   "outputs": [],
   "source": [
    "# from lib.histogram_grid import HistogramGrid\n",
    "\n",
    "# map_fname = 'map.txt'\n",
    "# resolution = 1 # node size = 1cm\n",
    "# hg = HistogramGrid.build_histogram_from_txt(map_fname, resolution)\n",
    "# print(*hg.histogram_grid, sep=\"\\n\")"
   ]
  }
 ],
 "metadata": {
  "kernelspec": {
   "display_name": "Python 3",
   "language": "python",
   "name": "python3"
  },
  "language_info": {
   "codemirror_mode": {
    "name": "ipython",
    "version": 3
   },
   "file_extension": ".py",
   "mimetype": "text/x-python",
   "name": "python",
   "nbconvert_exporter": "python",
   "pygments_lexer": "ipython3",
   "version": "3.6.5"
  }
 },
 "nbformat": 4,
 "nbformat_minor": 2
}
